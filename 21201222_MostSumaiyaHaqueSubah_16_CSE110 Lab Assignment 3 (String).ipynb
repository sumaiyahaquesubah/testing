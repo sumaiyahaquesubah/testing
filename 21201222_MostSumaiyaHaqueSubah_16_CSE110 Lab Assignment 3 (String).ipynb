{
 "cells": [
  {
   "cell_type": "markdown",
   "metadata": {
    "id": "xDNsncrtU1yM"
   },
   "source": [
    "# CSE110 Lab Assignment 3\n",
    "\n",
    "This Assignment is to help you develop your concept of Strings in Python."
   ]
  },
  {
   "cell_type": "markdown",
   "metadata": {
    "id": "gh4GUDaIU1yO"
   },
   "source": [
    "\n",
    "\n",
    "\n",
    "\n",
    "\n",
    "\n",
    "##Write your name, student ID and CSE110 theory section number below:\n",
    "\n",
    "\n",
    "\n",
    "\n",
    "\n"
   ]
  },
  {
   "cell_type": "code",
   "execution_count": 1,
   "metadata": {
    "id": "OAYfzLIqgqyE"
   },
   "outputs": [],
   "source": [
    "#STUDENT NAME:Most.Sumaiya Haque Subah\n",
    "#STUDENT ID:21201222\n",
    "#CSE110 THEORY SECTION: 16"
   ]
  },
  {
   "cell_type": "markdown",
   "metadata": {
    "id": "KD4EKJf6U1yQ"
   },
   "source": [
    "## Write the code in Python to do the following tasks:\n",
    "\n",
    "**<font color='red'>[MUST MAINTAIN VARIABLE NAMING CONVENTIONS FOR ALL THE TASKS]</font>**\n",
    "\n",
    "\n",
    "### Task 1 \n",
    "\n",
    "Write a Python program that will ask the user to input a string (containing exactly one word). Then your program should print subsequent substrings of the given string as shown in the examples below.\n",
    "\n",
    "=====================================================================\n",
    "\n",
    "**Example 1:**\\\n",
    "Input:\\\n",
    "BANGLA\n",
    "\n",
    "Output:\\\n",
    "B\\\n",
    "BA\\\n",
    "BAN\\\n",
    "BANG\\\n",
    "BANGL\\\n",
    "BANGLA\n",
    "\n",
    "=====================================================================\n",
    "\n",
    "**Example 2:**\\\n",
    "Input:\\\n",
    "DREAM\n",
    "\n",
    "Output:\\\n",
    "D\\\n",
    "DR\\\n",
    "DRE\\\n",
    "DREA\\\n",
    "DREAM\n",
    "\n",
    "=====================================================================\n",
    "\n",
    "**Hints(1):** You may use \"for loop\" for this task.\n",
    "\n",
    "**Hints(2):** You may use print() function for printing newlines.\n",
    "\n",
    "For example:\\\n",
    "print(1)\\\n",
    "print(2)\n",
    "\n",
    "Output:\\\n",
    "1\\\n",
    "2\n",
    "\n",
    "=====================================================================\n",
    "\n",
    "We can use print(end = \"\") to skip printing the additional newline.\n",
    "\n",
    "For example:\\\n",
    "print(1, end =\"\")\\\n",
    "print(2)\n",
    "\n",
    "Output:(prints the following output right next to the previous one)\\\n",
    "12\n",
    "\n",
    "=====================================================================\n",
    "\n",
    "\n",
    "\n",
    "\n"
   ]
  },
  {
   "cell_type": "code",
   "execution_count": 2,
   "metadata": {
    "id": "vJhpmj2XU1yR"
   },
   "outputs": [
    {
     "name": "stdout",
     "output_type": "stream",
     "text": [
      "Enter word: hello\n",
      "h\n",
      "he\n",
      "hel\n",
      "hell\n",
      "hello\n"
     ]
    }
   ],
   "source": [
    "word=input(\"Enter word: \")\n",
    "placeV=len(word)\n",
    "for row in range (placeV):\n",
    "    for col in range(row+1):\n",
    "        print(word[col],end=\"\")\n",
    "        \n",
    "    print()\n"
   ]
  },
  {
   "cell_type": "code",
   "execution_count": 13,
   "metadata": {},
   "outputs": [
    {
     "name": "stdout",
     "output_type": "stream",
     "text": [
      "Give your one word: hello\n",
      "h\n",
      "he\n",
      "hel\n",
      "hell\n",
      "hello\n"
     ]
    }
   ],
   "source": [
    "##print ta bujhte hbe!\n",
    "word=input(\"Give your one word: \")\n",
    "length=len(word)\n",
    "for i in range(length):\n",
    "    for j in range(i+1):\n",
    "        print(word[j],end=\"\")\n",
    "    print()    \n",
    "    "
   ]
  },
  {
   "cell_type": "code",
   "execution_count": 33,
   "metadata": {},
   "outputs": [
    {
     "name": "stdout",
     "output_type": "stream",
     "text": [
      "Give your one word: hello\n"
     ]
    },
    {
     "ename": "TypeError",
     "evalue": "'str' object cannot be interpreted as an integer",
     "output_type": "error",
     "traceback": [
      "\u001b[1;31m---------------------------------------------------------------------------\u001b[0m",
      "\u001b[1;31mTypeError\u001b[0m                                 Traceback (most recent call last)",
      "\u001b[1;32m<ipython-input-33-1a2024bb3a7b>\u001b[0m in \u001b[0;36m<module>\u001b[1;34m\u001b[0m\n\u001b[0;32m      2\u001b[0m \u001b[0mlength\u001b[0m\u001b[1;33m=\u001b[0m\u001b[0mlen\u001b[0m\u001b[1;33m(\u001b[0m\u001b[0mword\u001b[0m\u001b[1;33m)\u001b[0m\u001b[1;33m\u001b[0m\u001b[1;33m\u001b[0m\u001b[0m\n\u001b[0;32m      3\u001b[0m \u001b[1;32mfor\u001b[0m \u001b[0mi\u001b[0m \u001b[1;32min\u001b[0m \u001b[0mrange\u001b[0m\u001b[1;33m(\u001b[0m\u001b[0mlength\u001b[0m\u001b[1;33m)\u001b[0m\u001b[1;33m:\u001b[0m\u001b[1;33m\u001b[0m\u001b[1;33m\u001b[0m\u001b[0m\n\u001b[1;32m----> 4\u001b[1;33m     \u001b[1;32mfor\u001b[0m \u001b[0mj\u001b[0m \u001b[1;32min\u001b[0m \u001b[0mrange\u001b[0m\u001b[1;33m(\u001b[0m\u001b[0mword\u001b[0m\u001b[1;33m)\u001b[0m\u001b[1;33m:\u001b[0m\u001b[1;33m\u001b[0m\u001b[1;33m\u001b[0m\u001b[0m\n\u001b[0m\u001b[0;32m      5\u001b[0m         \u001b[0mprint\u001b[0m\u001b[1;33m(\u001b[0m\u001b[0mj\u001b[0m\u001b[1;33m,\u001b[0m\u001b[0mend\u001b[0m\u001b[1;33m=\u001b[0m\u001b[1;34m\"\"\u001b[0m\u001b[1;33m)\u001b[0m\u001b[1;33m\u001b[0m\u001b[1;33m\u001b[0m\u001b[0m\n\u001b[0;32m      6\u001b[0m     \u001b[0mprint\u001b[0m\u001b[1;33m(\u001b[0m\u001b[1;33m)\u001b[0m\u001b[1;33m\u001b[0m\u001b[1;33m\u001b[0m\u001b[0m\n",
      "\u001b[1;31mTypeError\u001b[0m: 'str' object cannot be interpreted as an integer"
     ]
    }
   ],
   "source": [
    "word=input(\"Give your one word: \")\n",
    "length=len(word)\n",
    "for i in range(length):\n",
    "    for j in range(word):\n",
    "        print(j,end=\"\")\n",
    "    print()    "
   ]
  },
  {
   "cell_type": "markdown",
   "metadata": {
    "id": "pbdeIVcyU1yi"
   },
   "source": [
    "### Task 2\n",
    "\n",
    "Write a Python program that will ask the user to enter a  word as an input. \n",
    "\n",
    "* If the length of the input string is less than 4, then your program should print the same string as an output. \n",
    "* If the input string’s length is greater than 3, then your program should add \"er\" at the end of the input string. \n",
    "* If the input string already ends with \"er\", then add \"est\" instead. \n",
    "* If the input string already ends with \"est\", then your program should print the same input string as an output.\n",
    "\n",
    "=====================================================================\n",
    "\n",
    "**Example 1:**\\\n",
    "Input: strong\\\n",
    "Output: stronger\n",
    "\n",
    "=====================================================================\n",
    "\n",
    "**Example 2:**\\\n",
    "Input: stronger\\\n",
    "Output: strongest\n",
    "\n",
    "=====================================================================\n",
    "\n",
    "**Example 3:**\\\n",
    "Input: strongest\\\n",
    "Output: strongest\n",
    "\n",
    "=====================================================================\n",
    "\n",
    "**Example 4:**\\\n",
    "Input: abc\\\n",
    "Output: abc\n",
    "\n",
    "====================================================================="
   ]
  },
  {
   "cell_type": "raw",
   "metadata": {},
   "source": [
    "word=input(\"enter word: \")\n",
    "placeV=len(word)\n",
    "if(placeV>3): \n",
    "    if word.endswith(\"er\"):\n",
    "        print(word+\"est\")\n",
    "    elif word.endswith(\"est\"):                  #print(word.replace(\"er\",\"est\"))\n",
    "        print(word)\n",
    "    else:\n",
    "        print(word+\"er\")\n",
    "elif(placeV<4):\n",
    "    print(word)\n",
    "\n",
    "    \n"
   ]
  },
  {
   "cell_type": "code",
   "execution_count": 1,
   "metadata": {},
   "outputs": [
    {
     "name": "stdout",
     "output_type": "stream",
     "text": [
      "largest\n",
      "largest\n"
     ]
    }
   ],
   "source": [
    "##else tar alternative !!\n",
    "word=input()\n",
    "length=len(word)\n",
    "if length<4:\n",
    "    print(word)\n",
    "elif length>3:\n",
    "    if word.endswith(\"er\"):\n",
    "        print(word.replace(\"er\",\"est\"))\n",
    "    elif word.endswith(\"est\"):\n",
    "        s=(word.replace(\"est\",\"est\"))\n",
    "        print(s)\n",
    "        \n",
    "    else:\n",
    "        print(word+\"er\")\n",
    "            \n",
    "        \n"
   ]
  },
  {
   "cell_type": "markdown",
   "metadata": {
    "id": "PsBbgc4YU1yp"
   },
   "source": [
    "### Task 3\n",
    "\n",
    "Write a Python program that will ask the user to input a string (containing exactly one word). Then print the ASCII code for each character in the String using the ord() function. \n",
    "\n",
    "To check if your program is working correctly or not, you can find a list of all correct values from the following website. You may look at “Dec” and “Char” columns only and ignore the other columns for this problem.\\\n",
    "link: http://www.asciitable.com/\n",
    "\n",
    "=====================================================================\n",
    "\n",
    "**Example 1:**\\\n",
    "Input: Programming\\\n",
    "Output:\\\n",
    "P : 80\\\n",
    "r : 114\\\n",
    "o : 111\\\n",
    "g : 103\\\n",
    "r : 114\\\n",
    "a : 97\\\n",
    "m : 109\\\n",
    "m : 109\\\n",
    "i : 105\\\n",
    "n : 110\\\n",
    "g : 103\n",
    "\n",
    "=====================================================================\n",
    "\n",
    "**Example 2:**\\\n",
    "Input: hunger\\\n",
    "Output:\\\n",
    "h : 104\\\n",
    "u : 117\\\n",
    "n : 110\\\n",
    "g : 103\\\n",
    "e : 101\\\n",
    "r : 114 \n",
    "\n",
    "====================================================================="
   ]
  },
  {
   "cell_type": "code",
   "execution_count": 4,
   "metadata": {
    "id": "r8by7ONZU1ys"
   },
   "outputs": [
    {
     "name": "stdout",
     "output_type": "stream",
     "text": [
      "Enter a word: Programming\n",
      "P : 80\n",
      "r : 114\n",
      "o : 111\n",
      "g : 103\n",
      "r : 114\n",
      "a : 97\n",
      "m : 109\n",
      "m : 109\n",
      "i : 105\n",
      "n : 110\n",
      "g : 103\n"
     ]
    }
   ],
   "source": [
    "word=input(\"Enter a word: \")\n",
    "for element in word:\n",
    "    print(element+\" :\",ord(element))\n"
   ]
  },
  {
   "cell_type": "code",
   "execution_count": 31,
   "metadata": {},
   "outputs": [
    {
     "name": "stdout",
     "output_type": "stream",
     "text": [
      "apple\n",
      "a: 97\n",
      "p: 112\n",
      "p: 112\n",
      "l: 108\n",
      "e: 101\n"
     ]
    }
   ],
   "source": [
    "word=input()\n",
    "length=len(word)\n",
    "for i in word:\n",
    "    print(i+\":\",ord(i))"
   ]
  },
  {
   "cell_type": "markdown",
   "metadata": {
    "id": "O8lIVppgU1yw"
   },
   "source": [
    "### Task 4\n",
    "\n",
    "Take a string as a input from the user with all small letters. Then print the next alphabet in sequence for each alphabet found in the input.\n",
    "\n",
    "=====================================================================\n",
    "\n",
    "\n",
    "*Hint: You may need to use the functions ord() and chr(). The ASCII value of ‘a’ is 97 and ‘z’ is 122.*\n",
    "\n",
    "=====================================================================\n",
    "\n",
    "**Example 1:**\\\n",
    "Input: abcd\\\n",
    "Output: bcde\n",
    "\n",
    "=====================================================================\n",
    "\n",
    "**Example 2:**\\\n",
    "Input: the cow\\\n",
    "Output: uif!dpx\n",
    "\n",
    "=====================================================================\n",
    "\n",
    "**Example 3: <font color='red'>[Must fulfil this criteria]</font>**\\\n",
    "Input: xyzabc\\\n",
    "Output: yzabcd\n",
    "\n",
    "=====================================================================\n"
   ]
  },
  {
   "cell_type": "code",
   "execution_count": 46,
   "metadata": {
    "id": "Hyvy8WNNU1yx"
   },
   "outputs": [
    {
     "name": "stdout",
     "output_type": "stream",
     "text": [
      "Enter words with all small letters: zabc\n",
      "abcd"
     ]
    }
   ],
   "source": [
    "word=input(\"Enter words with all small letters: \")\n",
    "for element in word:\n",
    "    if element==\"z\":\n",
    "        print(\"a\",end=\"\")\n",
    "    else:    \n",
    "        print(chr((ord(element)+1)),end=\"\")\n"
   ]
  },
  {
   "cell_type": "code",
   "execution_count": 48,
   "metadata": {},
   "outputs": [
    {
     "name": "stdout",
     "output_type": "stream",
     "text": [
      "zabc\n",
      "abcd"
     ]
    }
   ],
   "source": [
    "word=input()\n",
    "for i in (word):\n",
    "    if ord(i)==122:\n",
    "        print(\"a\",end=\"\")\n",
    "    else:\n",
    "        print(chr((ord(i)+1)),end=\"\")\n",
    "        \n",
    "\n",
    "    \n"
   ]
  },
  {
   "cell_type": "code",
   "execution_count": 51,
   "metadata": {},
   "outputs": [
    {
     "name": "stdout",
     "output_type": "stream",
     "text": [
      "zabc\n",
      "abcd"
     ]
    }
   ],
   "source": [
    "word=input()\n",
    "for i in (word):\n",
    "    if i==\"z\":\n",
    "        print(\"a\",end=\"\")\n",
    "    else:\n",
    "        print(chr((ord(i)+1)),end=\"\")"
   ]
  },
  {
   "cell_type": "markdown",
   "metadata": {
    "id": "leVtdAsdymXM"
   },
   "source": [
    "### Task 5\n",
    "\n",
    "Write a Python program that will ask the user to enter two strings (s1, s2) as an input. Then create a mixed string with alternative characters from each string. Any leftover chars will be appended at the end of the resulting string.\n",
    "\n",
    "=====================================================================\n",
    "\n",
    "*Hint: For adding the leftover characters you may use string slicing.*\n",
    "\n",
    "=====================================================================\n",
    "\n",
    "**Example 1:**\\\n",
    "Input:\\\n",
    "ABCD\\\n",
    "efgh\n",
    "\n",
    "Output:\\\n",
    "AeBfCgDh\n",
    "\n",
    "=====================================================================\n",
    "\n",
    "**Example 2:**\\\n",
    "Input:\\\n",
    "ABCDENDFGH\\\n",
    "ijkl\n",
    "\n",
    "Output:\\\n",
    "AiBjCkDlENDFGH\n",
    "\n",
    "=====================================================================\n",
    "\n",
    "**Example 3:**\\\n",
    "Input:\\\n",
    "ijkl\\\n",
    "ABCDENDFGH\n",
    "\n",
    "Output:\\\n",
    "iAjBkClDENDFGH\n",
    "\n",
    "=====================================================================\n"
   ]
  },
  {
   "cell_type": "code",
   "execution_count": 12,
   "metadata": {
    "id": "kC1cq47myny6"
   },
   "outputs": [
    {
     "name": "stdout",
     "output_type": "stream",
     "text": [
      "Enter: ABCDENDFGH\n",
      "Enter: ijkl\n",
      "AiBjCkDlENDFGH\n"
     ]
    }
   ],
   "source": [
    "s1=input(\"Enter: \")\n",
    "s2=input(\"Enter: \")\n",
    "smaller=len(s1)\n",
    "largest=s2\n",
    "if len(s1)>len(s2):\n",
    "    smaller=len(s2)\n",
    "    largest=s1\n",
    "final=\"\"    \n",
    "for i in range(smaller):\n",
    "    final=final+s1[i]+s2[i]\n",
    "final=final+largest[smaller:]\n",
    "print(final)\n",
    "    \n"
   ]
  },
  {
   "cell_type": "code",
   "execution_count": 53,
   "metadata": {},
   "outputs": [
    {
     "ename": "SyntaxError",
     "evalue": "invalid syntax (<ipython-input-53-2529dfb9468f>, line 7)",
     "output_type": "error",
     "traceback": [
      "\u001b[1;36m  File \u001b[1;32m\"<ipython-input-53-2529dfb9468f>\"\u001b[1;36m, line \u001b[1;32m7\u001b[0m\n\u001b[1;33m    elif  len(s1)<en(s2):\u001b[0m\n\u001b[1;37m    ^\u001b[0m\n\u001b[1;31mSyntaxError\u001b[0m\u001b[1;31m:\u001b[0m invalid syntax\n"
     ]
    }
   ],
   "source": [
    "s1=input()\n",
    "s2=input()\n",
    "if len(s1)>len(s2):\n",
    "    for i in s1:\n",
    "        for j in s2:\n",
    "            print((i+j)+s1[len(s2)+1]\n",
    "elif  len(s1)<en(s2):\n",
    "    for i in s2\n",
    "        for j in s1\n",
    "            print((i+j)+s2len(s1+1]             "
   ]
  },
  {
   "cell_type": "code",
   "execution_count": 55,
   "metadata": {},
   "outputs": [
    {
     "name": "stdout",
     "output_type": "stream",
     "text": [
      "ABCDE\n",
      "acb\n",
      "ABCDE\n"
     ]
    }
   ],
   "source": [
    "s1=input()\n",
    "s2=input()\n",
    "if len(s1)>len(s2):\n",
    "    \n",
    "   "
   ]
  },
  {
   "cell_type": "markdown",
   "metadata": {
    "id": "AWQJrJW3U1y3"
   },
   "source": [
    "### Task 6\n",
    "Given a string, create a new string with all the **consecutive duplicates removed**. \n",
    "\n",
    "=====================================================================\n",
    "\n",
    "**Hint:** You may make a new string to store the result. You can check whether the current character and the next character are the same, then add that character to the new string.\n",
    "\n",
    "=====================================================================\n",
    "\n",
    "\n",
    "**Sample Input**:\\\n",
    "AAABBBBCDDBBECE\n",
    "\n",
    "**Sample Output:**\\\n",
    "ABCDBECE\n",
    "\n",
    "=====================================================================\n"
   ]
  },
  {
   "cell_type": "code",
   "execution_count": 17,
   "metadata": {
    "id": "oNv_JNgUU1y4"
   },
   "outputs": [
    {
     "name": "stdout",
     "output_type": "stream",
     "text": [
      "Enter word: AAAABBCCCDDDE\n",
      "ABCDE\n"
     ]
    }
   ],
   "source": [
    "word=input(\"Enter word: \")\n",
    "final=word[0]\n",
    "for i in range(1,len(word)):\n",
    "    if word[i]!=word[i-1]:\n",
    "        final=final+word[i]\n",
    "print(final)        \n"
   ]
  },
  {
   "cell_type": "markdown",
   "metadata": {
    "id": "4zI6tmFN0i4y"
   },
   "source": [
    "### Task 7\n",
    "\n",
    "Write a python program that takes 2 inputs from the user, where the first input is a string with length greater than 1. The second input is the index of the first given string from where you have to start reversing. Then print the new string back to the user.\n",
    "\n",
    "=====================================================================\n",
    "\n",
    "**Sample Input 1:**\n",
    "\n",
    "72418\n",
    "\n",
    "4\n",
    "\n",
    "**Sample Output 1:**\n",
    "\n",
    "81427\n",
    "\n",
    "\n",
    "**Explanation**: Our second input, index '4' is the last index of our first input String '72418', hence the entire string is reversed giving us '81427'.\n",
    "\n",
    "=====================================================================\n",
    "\n",
    "**Sample Input 2:**\n",
    "\n",
    "12345 \n",
    "\n",
    "2\n",
    "\n",
    "**Sample Output 2:**\n",
    "\n",
    "32145\n",
    "\n",
    "**Explanation**: The second input is '2' so we have to reverse from index 2 of our first input. The 2nd index of our first input String is '3', index 1 is '2' and index 0 is '1'. Hence, if we reverse indexes 0 to 2, we get '321'. Index 3 and 4 which is '4' and '5' respectively remains unchanged hence our final output is '32145'.\n",
    "\n",
    "=====================================================================\n",
    "\n",
    "**Sample Input 3:**\n",
    "\n",
    "aBcd1234defg\n",
    "\n",
    "5\n",
    "\n",
    "**Sample Output 3:**\n",
    "\n",
    "21dcBa34defg\n",
    "\n",
    "**Explanation**: From our first input String 'aBcd1234defg', \n",
    "\n",
    "index 0 = 'a'\n",
    "\n",
    "index 1 = 'B'\n",
    "\n",
    "index 2 = 'c'\n",
    "\n",
    "index 3 = 'd'\n",
    "\n",
    "index 4 = '1'\n",
    "\n",
    "index 5 = '2'\n",
    "\n",
    "index 6 = '3'\n",
    "\n",
    "Since our second input is 5, index 0 to index 5 is reversed and we have '21dcBa' and the rest is unchanged from indexes 6 to 11 ('34defg'). Therefore, we have '21dcBa34defg' finally.\n",
    "\n",
    "=====================================================================\n"
   ]
  },
  {
   "cell_type": "code",
   "execution_count": 28,
   "metadata": {
    "id": "NoqaHxEq81np"
   },
   "outputs": [
    {
     "name": "stdout",
     "output_type": "stream",
     "text": [
      "Enter word: 654237890376\n",
      "Give the place value: 4\n",
      "324567890376\n"
     ]
    }
   ],
   "source": [
    "word=input(\"Enter word: \")\n",
    "placeV=int(input(\"Give the place value: \"))\n",
    "final=\"\"\n",
    "for i in range(placeV,-1,-1):\n",
    "    final+=word[i]\n",
    "final+=word[placeV+1:len(word)]\n",
    "print(final)\n"
   ]
  },
  {
   "cell_type": "markdown",
   "metadata": {
    "id": "G1KGod9C87t_"
   },
   "source": [
    "### Task 8\n",
    "\n",
    "Write a python program that splits a given string on a given split character. The first input is a String and the second input is the character that will be used to split the first String. <font color='red'>[You cannot use the built-in split function]</font>\n",
    "\n",
    "=====================================================================\n",
    "\n",
    "**Sample Input 1:**<br/>\n",
    "This-is-CSE110<br/>\n",
    "-<br/>\n",
    "\n",
    "**Sample Output 1:**<br/>\n",
    "This<br/>\n",
    "is<br/>\n",
    "CSE110\n",
    "\n",
    "**Explanation**: The second input which is the character '-', is used to split or divide the first input String 'This-is-CSE110' into 'This', 'is' and 'CSE110' which are printed individually in seperate lines.\n",
    "\n",
    "=====================================================================\n",
    "\n",
    "**Sample Input 2**:\n",
    "tom@gmail,harry@yahoo,bob@gmail,mary@gmail\n",
    "\n",
    ",\n",
    "\n",
    "**Sample Output 2**:\n",
    "\n",
    "tom@gmail\n",
    "\n",
    "harry@yahoo\n",
    "\n",
    "bob@gmail\n",
    "\n",
    "mary@gmail\n",
    "\n",
    "====================================================================="
   ]
  },
  {
   "cell_type": "code",
   "execution_count": 32,
   "metadata": {
    "id": "A9zuROkY9qre"
   },
   "outputs": [
    {
     "name": "stdout",
     "output_type": "stream",
     "text": [
      "Enter sentence: tom@gmail,harry@yahoo,bob@gmail,mary@gmail\n",
      "Enter character: ,\n",
      "tom@gmail\n",
      "harry@yahoo\n",
      "bob@gmail\n",
      "mary@gmail\n"
     ]
    }
   ],
   "source": [
    "word=input(\"Enter sentence: \")\n",
    "ch=input(\"Enter character: \")\n",
    "final=\"\"\n",
    "for i in range(len(word)):\n",
    "    if(word[i]!=ch):\n",
    "        final+=word[i]\n",
    "    else:\n",
    "        print(final)\n",
    "        final=\"\"\n",
    "print(final)    \n",
    "    \n"
   ]
  },
  {
   "cell_type": "markdown",
   "metadata": {
    "id": "lPoDvm8YU1y9"
   },
   "source": [
    "### Task 9\n",
    "\n",
    "Suppose you are given two strings, s1, and s2. Now, print a new string made up of the last characters and then the first characters of the input strings.\n",
    "\n",
    "=====================================================================\n",
    "\n",
    "**Sample Input 1**:\n",
    "\n",
    "s1 = new\n",
    "\n",
    "s2= string\n",
    "\n",
    "**Sample Output 1**:\n",
    "\n",
    "gwsn\n",
    "\n",
    "**Explanation:** The last character of the String s2 is 'g'. The last character of the String s1 is 'w'. The first character of the String s2 is 's'. The first character of the String s1 is 'n'. Together they give us the ouput we want 'gwsn'.\n",
    "\n",
    "=====================================================================\n",
    "\n",
    "**Sample Input 2**:\n",
    "\n",
    "s1 = abcd\n",
    "\n",
    "s2= efgh\n",
    "\n",
    "**Sample Output 2**: \n",
    "\n",
    "hdea\n",
    "\n",
    "**Explanation:** The last characters of the Strings s2 and s1 is 'h' and 'd' respectively while the first characters of the Strings is 'e' and 'a' respectively. Together they give us the ouput we want 'gwsn'.\n",
    "\n",
    "=====================================================================\n"
   ]
  },
  {
   "cell_type": "code",
   "execution_count": 34,
   "metadata": {
    "id": "z26BN9B3U1y_"
   },
   "outputs": [
    {
     "name": "stdout",
     "output_type": "stream",
     "text": [
      "Enter word: abcd\n",
      "Enter word: efgh\n",
      "hdea\n"
     ]
    }
   ],
   "source": [
    "s1=input(\"Enter word: \")\n",
    "s2=input('Enter word: ')\n",
    "output=s2[-1]+s1[-1]+s2[0]+s1[0]\n",
    "print(output)\n"
   ]
  },
  {
   "cell_type": "markdown",
   "metadata": {
    "id": "ZrjtT-I_U1zD"
   },
   "source": [
    "### Task 10\n",
    "\n",
    "Write a Python program that takes a String as input from the user, removes the characters at even index and prints the resulting String in uppercase.\n",
    "\n",
    "=====================================================================\n",
    "\n",
    "**Sample Input 1**:\n",
    "\n",
    "String\n",
    "\n",
    "**Sample Output 1**: \n",
    "\n",
    "TIG\n",
    "\n",
    "**Explanation**: The characters 'S', 'r' and 'n' are at index positions 0, 2, and 4 respectively. Hence they are removed and the remaining characters 'tig' are capitalized giving us output 'TIG'.\n",
    "\n",
    "=====================================================================\n",
    "\n",
    "**Sample Input 2**:\n",
    "\n",
    "abcd\n",
    "\n",
    "**Sample Output 2**: \n",
    "\n",
    "BD\n",
    "\n",
    "=====================================================================\n"
   ]
  },
  {
   "cell_type": "code",
   "execution_count": null,
   "metadata": {},
   "outputs": [],
   "source": []
  },
  {
   "cell_type": "code",
   "execution_count": 36,
   "metadata": {
    "colab": {
     "base_uri": "https://localhost:8080/"
    },
    "executionInfo": {
     "elapsed": 8,
     "status": "ok",
     "timestamp": 1636010119042,
     "user": {
      "displayName": "Md. Sabbir Ahmed",
      "photoUrl": "https://lh3.googleusercontent.com/a-/AOh14GhHOUIz04PQizqnhmDKdujXn_hRiecRMVQ_BY_P=s64",
      "userId": "09530427780808599624"
     },
     "user_tz": -360
    },
    "id": "3r7Ripj7U1zE",
    "outputId": "63cb795f-831a-4014-8757-651b59fbc527"
   },
   "outputs": [
    {
     "name": "stdout",
     "output_type": "stream",
     "text": [
      "Enter word: string\n",
      "TIG\n"
     ]
    }
   ],
   "source": [
    "#to do\n",
    "#val=\"tig\"\n",
    "#print(val.upper())\n",
    "word=input(\"Enter word: \")\n",
    "final=\"\"\n",
    "for i in range(len(word)):\n",
    "    if(i%2==1):\n",
    "        final=final+word[i].upper()\n",
    "print(final)        \n",
    "    \n",
    "        \n",
    "        \n",
    "        "
   ]
  },
  {
   "cell_type": "markdown",
   "metadata": {
    "id": "AWgZaBZCzmaM"
   },
   "source": [
    "### Task 11\n",
    "\n",
    "Write a python program that takes two inputs. The first input is a string and the second input is a number. If the number is even then concatenate the given string two times the given number and if the number is odd then concatenate the given string three times the given number.\n",
    "\n",
    "=====================================================================\n",
    "\n",
    "**Sample Input 1**:\n",
    "\n",
    "CSE110\n",
    "\n",
    "4\n",
    "\n",
    "**Sample output 1**:\n",
    "\n",
    "CSE110CSE110CSE110CSE110CSE110CSE110CSE110CSE110\n",
    "\n",
    "**Explanation**: The second input which is the number 4 is even, therefore the first string input 'CSE110' is concatenated(joined together) 4*2 = 8 times.\n",
    "\n",
    "=====================================================================\n",
    "\n",
    "**Sample Input 2**:\n",
    "\n",
    "CSE110\n",
    "\n",
    "3\n",
    "\n",
    "**Sample Output 2**:\n",
    "\n",
    "CSE110CSE110CSE110CSE110CSE110CSE110CSE110CSE110CSE110\n",
    "\n",
    "=====================================================================\n"
   ]
  },
  {
   "cell_type": "code",
   "execution_count": 37,
   "metadata": {
    "colab": {
     "base_uri": "https://localhost:8080/"
    },
    "executionInfo": {
     "elapsed": 417,
     "status": "ok",
     "timestamp": 1636010253069,
     "user": {
      "displayName": "Md. Sabbir Ahmed",
      "photoUrl": "https://lh3.googleusercontent.com/a-/AOh14GhHOUIz04PQizqnhmDKdujXn_hRiecRMVQ_BY_P=s64",
      "userId": "09530427780808599624"
     },
     "user_tz": -360
    },
    "id": "ICW-03YOznTp",
    "outputId": "25b9cc99-c1fd-4433-e00a-187da7715e51"
   },
   "outputs": [
    {
     "name": "stdout",
     "output_type": "stream",
     "text": [
      "CSE110CSE110CSE110CSE110\n",
      "Enter word: CSE110\n",
      "Give the number: 4\n",
      "CSE110CSE110CSE110CSE110CSE110CSE110CSE110CSE110\n"
     ]
    }
   ],
   "source": [
    "#to do\n",
    "val=\"CSE110\"\n",
    "print(val*4)\n",
    "word=input(\"Enter word: \")\n",
    "num=int(input(\"Give the number: \"))\n",
    "if(num%2==0):\n",
    "    print(word*num*2)\n",
    "else:\n",
    "     print(word*num*3)\n",
    "    "
   ]
  },
  {
   "cell_type": "markdown",
   "metadata": {
    "id": "7a_1pYjfU1zI"
   },
   "source": [
    "### Task 12\n",
    "\n",
    "Write a python program that takes 2 inputs from the user. The first input is a string and the second input is a letter. The program should remove all occurences of the letter from the given string and print the output. If the letter is not found in the string and the length of string is greater than 3, then remove the first letter and last letter of the given string and print it. Otherwise print the string as it is. [You can assume that all the input will be in lowercase letter]\n",
    "\n",
    "=====================================================================\n",
    "\n",
    "\n",
    "**Sample Input 1**:\n",
    "\n",
    "tanjiro kamado\n",
    "\n",
    "a\n",
    "\n",
    "**Sample output 1**:\n",
    "\n",
    "tnjiro kmdo\n",
    "\n",
    "**Explanation**: All 3 instances of the character 'a' is removed from the input String 'tanjiro kamado' to give us output 'tnjiro kmdo'.\n",
    "\n",
    "=====================================================================\n",
    "\n",
    "**Sample Input 2**:\n",
    "\n",
    "eren yeager\n",
    "\n",
    "k\n",
    "\n",
    "\n",
    "**Sample Output 2**:\n",
    "\n",
    "ren yeage\n",
    "\n",
    "**Explanation**: The character 'k' is absent in the first input String 'eren yeager' and it's length is 11 which is greater than 3 therefore the first character 'e' and the last character 'r' is removed. Hence, the final String is 'ren yeage'.\n",
    "\n",
    "=====================================================================\n",
    "\n",
    "Sample Input 3:\n",
    "\n",
    "hi\n",
    "\n",
    "a\n",
    "\n",
    "Sample Output 3:\n",
    "\n",
    "hi\n",
    "\n",
    "**Explanation**: The letter 'a' is not found in our first input 'hi', the length of which is 2. Since the character is not present and the length is less than 3, we print the String 'hi' as it is.\n",
    "\n",
    "=====================================================================\n"
   ]
  },
  {
   "cell_type": "code",
   "execution_count": null,
   "metadata": {
    "colab": {
     "base_uri": "https://localhost:8080/"
    },
    "executionInfo": {
     "elapsed": 454,
     "status": "ok",
     "timestamp": 1636010759589,
     "user": {
      "displayName": "Md. Sabbir Ahmed",
      "photoUrl": "https://lh3.googleusercontent.com/a-/AOh14GhHOUIz04PQizqnhmDKdujXn_hRiecRMVQ_BY_P=s64",
      "userId": "09530427780808599624"
     },
     "user_tz": -360
    },
    "id": "vToa7yazU1zI",
    "outputId": "b1a5e0a1-9fbd-448c-c13f-12952920b091"
   },
   "outputs": [],
   "source": [
    "word=input(\"Enter word: \")\n",
    "char=input(\"Enter character: \")\n",
    "final=\"\"\n",
    "bUp=0\n",
    "for i in range(len(word)):\n",
    "    if(word[i]!=char):\n",
    "        bUp+=1\n",
    "        if(len(word)>3):\n",
    "            if(bUp==len(word)):\n",
    "                final=word[1:len(word)-1]\n",
    "            else:\n",
    "                final+=word[i]\n",
    "        else:\n",
    "            final+=word[i] \n",
    "print(final)"
   ]
  },
  {
   "cell_type": "markdown",
   "metadata": {
    "id": "WZXnxHTdGrMC"
   },
   "source": [
    "## Optional Tasks (13 - 15) [Ungraded]"
   ]
  },
  {
   "cell_type": "markdown",
   "metadata": {
    "id": "nwRZ3_0tC3fq"
   },
   "source": [
    "### Task 13\n",
    "\n",
    "\n",
    "Write a python program that takes a string as an input from the user and then modifies the string in such a way that the string always starts with an uppercase letter and the case of each subsequent letter is the opposite of the previous letter (uppercase character followed by a lowercase character followed by an uppercase character and so on).  Finally the modified string is printed to show the user.\n",
    "\n",
    "*Hint:  Flags/counters can be used to manage uppercase-lowercase.*\n",
    "\n",
    "=====================================================================\n",
    "\n",
    "**Sample Input 1:**\\\n",
    "Python programming is very easy\n",
    "\n",
    "**Sample Output 1:**\\\n",
    "PyThOn PrOgRaMmInG iS vErY eAsY\n",
    "\n",
    "=====================================================================\n",
    "\n",
    "**Sample Input 2:**\\\n",
    "I&nbsp;&nbsp;&nbsp;&nbsp;&nbsp;&nbsp;     love       &nbsp;&nbsp;&nbsp;&nbsp;&nbsp;&nbsp;&nbsp; Python &nbsp;&nbsp;&nbsp;&nbsp;&nbsp;&nbsp;&nbsp;&nbsp;Programming\n",
    "\n",
    "**Sample Output 2:**\\\n",
    "I&nbsp;&nbsp;&nbsp;&nbsp;&nbsp;&nbsp;     lOvE       &nbsp;&nbsp;&nbsp;&nbsp;&nbsp;&nbsp;&nbsp;pYtHoN&nbsp;&nbsp;&nbsp;&nbsp;&nbsp;&nbsp;&nbsp;&nbsp;pRoGrAmMiNg\n",
    "\n",
    "=====================================================================\n",
    "\n",
    "**Sample Input 3:**\\\n",
    "CSE110 Course\n",
    "\n",
    "**Sample Output 3**\\\n",
    "CsE110 cOuRsE\n",
    "\n",
    "\n",
    "\n",
    "=====================================================================\n",
    "\n",
    "**Sample Input 4:**\\\n",
    "c\n",
    "\n",
    "**Sample Output 4:**\\\n",
    "C\n",
    "\n",
    "=====================================================================\n"
   ]
  },
  {
   "cell_type": "code",
   "execution_count": null,
   "metadata": {
    "id": "LEnaTlyoMJdS"
   },
   "outputs": [],
   "source": [
    "#to do\n"
   ]
  },
  {
   "cell_type": "markdown",
   "metadata": {
    "id": "EEkcqbIJBKel"
   },
   "source": [
    "### Task 14 \n",
    "An anagram is a play on words created by rearranging the letters of the original word to make a new word or phrase.\n",
    "So we can say two words are anagrams if they contain all of the same letters, but in a different order.\n",
    "\n",
    "\n",
    "Write a python program that takes two strings from the user and tells if they are anagram or not.\n",
    "\n",
    "=====================================================================\n",
    "\n",
    "<b>Sample Input 1: </b><br/>\n",
    "dusty<br/>\n",
    "study<br/>\n",
    "<b>Sample Output 1: </b> <br/>\n",
    "They are anagram<br/>\n",
    "\n",
    "=====================================================================\n",
    "\n",
    "<b>Sample Input 2: </b><br/>\n",
    "dustyyy<br/>\n",
    "study<br/>\n",
    "<b>Sample Output 2: </b><br/>\n",
    "They are not anagram"
   ]
  },
  {
   "cell_type": "code",
   "execution_count": null,
   "metadata": {
    "id": "dvjY9pE2BLVT"
   },
   "outputs": [],
   "source": [
    "# to do\n"
   ]
  },
  {
   "cell_type": "markdown",
   "metadata": {
    "id": "sHeGC4Tf7z81"
   },
   "source": [
    "###Task 15\n",
    "\n",
    "Write a python program thats prints the largest consecutive sequence from a given string S. For example, if S = ‘AABBBCCAAAA’, print ‘AAAA’. If more than one largest consecutive sequence exists, print the first one. Print NONE if no consecutive sequence is found.\n",
    "\n",
    "=====================================================================\n",
    "\n",
    "**Sample Input 1:**<br/>\n",
    "AABBBCCAAAA<br/>\n",
    "**Sample Output 1:**<br/>\n",
    "AAAA<br/>\n",
    "\n",
    "=====================================================================\n",
    "\n",
    "**Sample Input 2:**<br/>\n",
    "AABBCC<br/>\n",
    "**Sample Output 2:**<br/>\n",
    "AA<br/>\n",
    "\n",
    "=====================================================================\n",
    "\n",
    "**Sample Input 3:**<br/>\n",
    "ABCD<br/>\n",
    "**Sample Output 3:**<br/>\n",
    "NONE<br/>\n",
    "\n",
    "====================================================================="
   ]
  },
  {
   "cell_type": "code",
   "execution_count": null,
   "metadata": {
    "id": "lModRb2L0oqS"
   },
   "outputs": [],
   "source": [
    "#to do\n"
   ]
  }
 ],
 "metadata": {
  "colab": {
   "collapsed_sections": [],
   "name": "CSE110 Lab Assignment 3 (String).ipynb",
   "provenance": []
  },
  "kernelspec": {
   "display_name": "Python 3",
   "language": "python",
   "name": "python3"
  },
  "language_info": {
   "codemirror_mode": {
    "name": "ipython",
    "version": 3
   },
   "file_extension": ".py",
   "mimetype": "text/x-python",
   "name": "python",
   "nbconvert_exporter": "python",
   "pygments_lexer": "ipython3",
   "version": "3.8.8"
  }
 },
 "nbformat": 4,
 "nbformat_minor": 1
}
